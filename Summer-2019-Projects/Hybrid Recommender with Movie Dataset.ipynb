{
 "cells": [
  {
   "cell_type": "code",
   "execution_count": 1,
   "metadata": {},
   "outputs": [],
   "source": [
    "#Hybrid Recommender"
   ]
  },
  {
   "cell_type": "code",
   "execution_count": 7,
   "metadata": {},
   "outputs": [],
   "source": [
    "#Common libraries\n",
    "import pandas as pd\n",
    "import numpy as np\n",
    "from surprise import SVD, Reader, Dataset"
   ]
  },
  {
   "cell_type": "code",
   "execution_count": 31,
   "metadata": {},
   "outputs": [],
   "source": [
    "#Uploading the datasets\n",
    "cosine_sim = pd.read_csv('cosine_sim.csv')\n",
    "\n",
    "cosine_sim_map = pd.read_csv('cosine_sim_map.csv', header=None)\n",
    "cosine_sim_map = cosine_sim_map.set_index(0)\n",
    "cosine_sim_map = cosine_sim_map[1]"
   ]
  },
  {
   "cell_type": "code",
   "execution_count": 32,
   "metadata": {},
   "outputs": [
    {
     "data": {
      "text/plain": [
       "<surprise.prediction_algorithms.matrix_factorization.SVD at 0x11a7e7b38>"
      ]
     },
     "execution_count": 32,
     "metadata": {},
     "output_type": "execute_result"
    }
   ],
   "source": [
    "from surprise import SVD, Reader, Dataset\n",
    "\n",
    "reader = Reader()\n",
    "ratings = pd.read_csv('ratings_small.csv')\n",
    "data = Dataset.load_from_df(ratings[['userId', 'movieId', 'rating']], reader)\n",
    "data.split(n_folds=5)\n",
    "svd = SVD()\n",
    "train_set = data.build_full_trainset()\n",
    "svd.fit(train_set)"
   ]
  },
  {
   "cell_type": "code",
   "execution_count": 35,
   "metadata": {},
   "outputs": [],
   "source": [
    "id_map = pd.read_csv('movie_ids.csv')\n",
    "id_to_title = id_map.set_index('id')\n",
    "title_to_id = id_map.set_index('title')"
   ]
  },
  {
   "cell_type": "code",
   "execution_count": 36,
   "metadata": {},
   "outputs": [],
   "source": [
    "smd = pd.read_csv('metadata_small.csv')\n"
   ]
  },
  {
   "cell_type": "code",
   "execution_count": 37,
   "metadata": {},
   "outputs": [],
   "source": [
    "#Function for hybrid recommender\n",
    "def hybrid(user_id, title):\n",
    "    idx = cosine_sim_map[title]    \n",
    "    sim_scores = list(enumerate(cosine_sim[str(int(idx))]))    \n",
    "    sim_scores = sorted(sim_scores, key=lambda x: x[1], reverse=True)    \n",
    "    sim_scores = sim_scores[1:26]    \n",
    "    movie_indices = [i[0] for i in sim_scores]\n",
    "    movies = smd.iloc[movie_indices][['title', 'vote_count', 'vote_average', 'year', 'id']]    \n",
    "    movies['est'] = movies['id'].apply(lambda x: svd.predict(user_id, id_to_title.loc[x]['movieId']).est)    \n",
    "    movies = movies.sort_values('est', ascending=False)    \n",
    "    return movies.head(10)"
   ]
  },
  {
   "cell_type": "code",
   "execution_count": 40,
   "metadata": {},
   "outputs": [
    {
     "data": {
      "text/html": [
       "<div>\n",
       "<style scoped>\n",
       "    .dataframe tbody tr th:only-of-type {\n",
       "        vertical-align: middle;\n",
       "    }\n",
       "\n",
       "    .dataframe tbody tr th {\n",
       "        vertical-align: top;\n",
       "    }\n",
       "\n",
       "    .dataframe thead th {\n",
       "        text-align: right;\n",
       "    }\n",
       "</style>\n",
       "<table border=\"1\" class=\"dataframe\">\n",
       "  <thead>\n",
       "    <tr style=\"text-align: right;\">\n",
       "      <th></th>\n",
       "      <th>title</th>\n",
       "      <th>vote_count</th>\n",
       "      <th>vote_average</th>\n",
       "      <th>year</th>\n",
       "      <th>id</th>\n",
       "      <th>est</th>\n",
       "    </tr>\n",
       "  </thead>\n",
       "  <tbody>\n",
       "    <tr>\n",
       "      <th>7502</th>\n",
       "      <td>The Book of Eli</td>\n",
       "      <td>2207.0</td>\n",
       "      <td>6.6</td>\n",
       "      <td>2010</td>\n",
       "      <td>20504</td>\n",
       "      <td>3.671466</td>\n",
       "    </tr>\n",
       "    <tr>\n",
       "      <th>7901</th>\n",
       "      <td>Super 8</td>\n",
       "      <td>2496.0</td>\n",
       "      <td>6.6</td>\n",
       "      <td>2011</td>\n",
       "      <td>37686</td>\n",
       "      <td>3.666224</td>\n",
       "    </tr>\n",
       "    <tr>\n",
       "      <th>6640</th>\n",
       "      <td>Déjà Vu</td>\n",
       "      <td>1519.0</td>\n",
       "      <td>6.6</td>\n",
       "      <td>2006</td>\n",
       "      <td>7551</td>\n",
       "      <td>3.650746</td>\n",
       "    </tr>\n",
       "    <tr>\n",
       "      <th>4173</th>\n",
       "      <td>Minority Report</td>\n",
       "      <td>2663.0</td>\n",
       "      <td>7.1</td>\n",
       "      <td>2002</td>\n",
       "      <td>180</td>\n",
       "      <td>3.595827</td>\n",
       "    </tr>\n",
       "    <tr>\n",
       "      <th>7948</th>\n",
       "      <td>Stake Land</td>\n",
       "      <td>290.0</td>\n",
       "      <td>6.2</td>\n",
       "      <td>2010</td>\n",
       "      <td>52015</td>\n",
       "      <td>3.544085</td>\n",
       "    </tr>\n",
       "    <tr>\n",
       "      <th>5580</th>\n",
       "      <td>The Three Lives of Thomasina</td>\n",
       "      <td>12.0</td>\n",
       "      <td>6.8</td>\n",
       "      <td>1963</td>\n",
       "      <td>15081</td>\n",
       "      <td>3.543062</td>\n",
       "    </tr>\n",
       "    <tr>\n",
       "      <th>477</th>\n",
       "      <td>The Shadow</td>\n",
       "      <td>140.0</td>\n",
       "      <td>5.4</td>\n",
       "      <td>1994</td>\n",
       "      <td>8850</td>\n",
       "      <td>3.537813</td>\n",
       "    </tr>\n",
       "    <tr>\n",
       "      <th>5970</th>\n",
       "      <td>Cube²: Hypercube</td>\n",
       "      <td>383.0</td>\n",
       "      <td>5.4</td>\n",
       "      <td>2002</td>\n",
       "      <td>437</td>\n",
       "      <td>3.530128</td>\n",
       "    </tr>\n",
       "    <tr>\n",
       "      <th>7208</th>\n",
       "      <td>Replicant</td>\n",
       "      <td>93.0</td>\n",
       "      <td>5.0</td>\n",
       "      <td>2001</td>\n",
       "      <td>10596</td>\n",
       "      <td>3.464943</td>\n",
       "    </tr>\n",
       "    <tr>\n",
       "      <th>5296</th>\n",
       "      <td>Zardoz</td>\n",
       "      <td>106.0</td>\n",
       "      <td>5.8</td>\n",
       "      <td>1974</td>\n",
       "      <td>4923</td>\n",
       "      <td>3.453331</td>\n",
       "    </tr>\n",
       "  </tbody>\n",
       "</table>\n",
       "</div>"
      ],
      "text/plain": [
       "                             title  vote_count  vote_average  year     id  \\\n",
       "7502               The Book of Eli      2207.0           6.6  2010  20504   \n",
       "7901                       Super 8      2496.0           6.6  2011  37686   \n",
       "6640                       Déjà Vu      1519.0           6.6  2006   7551   \n",
       "4173               Minority Report      2663.0           7.1  2002    180   \n",
       "7948                    Stake Land       290.0           6.2  2010  52015   \n",
       "5580  The Three Lives of Thomasina        12.0           6.8  1963  15081   \n",
       "477                     The Shadow       140.0           5.4  1994   8850   \n",
       "5970              Cube²: Hypercube       383.0           5.4  2002    437   \n",
       "7208                     Replicant        93.0           5.0  2001  10596   \n",
       "5296                        Zardoz       106.0           5.8  1974   4923   \n",
       "\n",
       "           est  \n",
       "7502  3.671466  \n",
       "7901  3.666224  \n",
       "6640  3.650746  \n",
       "4173  3.595827  \n",
       "7948  3.544085  \n",
       "5580  3.543062  \n",
       "477   3.537813  \n",
       "5970  3.530128  \n",
       "7208  3.464943  \n",
       "5296  3.453331  "
      ]
     },
     "execution_count": 40,
     "metadata": {},
     "output_type": "execute_result"
    }
   ],
   "source": [
    "#First Attempt\n",
    "hybrid(2, 'Inception')"
   ]
  },
  {
   "cell_type": "code",
   "execution_count": null,
   "metadata": {},
   "outputs": [],
   "source": []
  }
 ],
 "metadata": {
  "kernelspec": {
   "display_name": "Python 3",
   "language": "python",
   "name": "python3"
  },
  "language_info": {
   "codemirror_mode": {
    "name": "ipython",
    "version": 3
   },
   "file_extension": ".py",
   "mimetype": "text/x-python",
   "name": "python",
   "nbconvert_exporter": "python",
   "pygments_lexer": "ipython3",
   "version": "3.7.3"
  }
 },
 "nbformat": 4,
 "nbformat_minor": 2
}
