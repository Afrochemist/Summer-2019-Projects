{
 "cells": [
  {
   "cell_type": "code",
   "execution_count": 11,
   "metadata": {},
   "outputs": [],
   "source": [
    "#Hybrid Recommender is a combination of two or more recommender systems\n",
    "#This examples uses content and collaborative recommender systems\n",
    "#This RS will recommend films based on the voting average and user's past watching history"
   ]
  },
  {
   "cell_type": "code",
   "execution_count": 12,
   "metadata": {},
   "outputs": [],
   "source": [
    "#Common libraries\n",
    "import pandas as pd\n",
    "import numpy as np\n",
    "from surprise import SVD, Reader, Dataset"
   ]
  },
  {
   "cell_type": "code",
   "execution_count": 13,
   "metadata": {},
   "outputs": [],
   "source": [
    "cosine_sim = pd.read_csv('cosine_sim.csv')"
   ]
  },
  {
   "cell_type": "code",
   "execution_count": 14,
   "metadata": {},
   "outputs": [
    {
     "data": {
      "text/plain": [
       "<surprise.prediction_algorithms.matrix_factorization.SVD at 0x1198af588>"
      ]
     },
     "execution_count": 14,
     "metadata": {},
     "output_type": "execute_result"
    }
   ],
   "source": [
    "#Incorporating other datasets\n",
    "reader = Reader()\n",
    "ratings = pd.read_csv('ratings_small.csv')\n",
    "data = Dataset.load_from_df(ratings[['userId', 'movieId', 'rating']], reader)\n",
    "data.split(n_folds=5)\n",
    "#Later used for the function\n",
    "svd = SVD()\n",
    "train_set = data.build_full_trainset()\n",
    "svd.fit(train_set)"
   ]
  },
  {
   "cell_type": "code",
   "execution_count": 15,
   "metadata": {},
   "outputs": [],
   "source": [
    "#Reoragnizing the output\n",
    "id_map = pd.read_csv('movie_ids.csv')\n",
    "id_to_title = id_map.set_index('id')\n",
    "title_to_id = id_map.set_index('title')"
   ]
  },
  {
   "cell_type": "code",
   "execution_count": 16,
   "metadata": {},
   "outputs": [],
   "source": [
    "smd = pd.read_csv('metadata_small.csv')"
   ]
  },
  {
   "cell_type": "code",
   "execution_count": 19,
   "metadata": {},
   "outputs": [],
   "source": [
    "#the function for the hybrid recommender system\n",
    "def hybrid(user_id, title):\n",
    "    idx = cosine_sim_map[title]    \n",
    "    sim_scores = list(enumerate(cosine_sim[str(int(idx))]))    \n",
    "    sim_scores = sorted(sim_scores, key=lambda x: x[1], reverse=True)    \n",
    "    sim_scores = sim_scores[1:26]    \n",
    "    movie_indices = [i[0] for i in sim_scores]\n",
    "    movies = smd.iloc[movie_indices][['title', 'vote_count', 'vote_average', 'year', 'id']]    \n",
    "    movies['est'] = movies['id'].apply(lambda x: svd.predict(user_id, id_to_title.loc[x]['movieId']).est)    \n",
    "    movies = movies.sort_values('est', ascending=False)    \n",
    "    return movies.head(10)"
   ]
  },
  {
   "cell_type": "code",
   "execution_count": 20,
   "metadata": {},
   "outputs": [
    {
     "data": {
      "text/html": [
       "<div>\n",
       "<style scoped>\n",
       "    .dataframe tbody tr th:only-of-type {\n",
       "        vertical-align: middle;\n",
       "    }\n",
       "\n",
       "    .dataframe tbody tr th {\n",
       "        vertical-align: top;\n",
       "    }\n",
       "\n",
       "    .dataframe thead th {\n",
       "        text-align: right;\n",
       "    }\n",
       "</style>\n",
       "<table border=\"1\" class=\"dataframe\">\n",
       "  <thead>\n",
       "    <tr style=\"text-align: right;\">\n",
       "      <th></th>\n",
       "      <th>title</th>\n",
       "      <th>vote_count</th>\n",
       "      <th>vote_average</th>\n",
       "      <th>year</th>\n",
       "      <th>id</th>\n",
       "      <th>est</th>\n",
       "    </tr>\n",
       "  </thead>\n",
       "  <tbody>\n",
       "    <tr>\n",
       "      <th>6640</th>\n",
       "      <td>Déjà Vu</td>\n",
       "      <td>1519.0</td>\n",
       "      <td>6.6</td>\n",
       "      <td>2006</td>\n",
       "      <td>7551</td>\n",
       "      <td>3.637194</td>\n",
       "    </tr>\n",
       "    <tr>\n",
       "      <th>5924</th>\n",
       "      <td>Fortress</td>\n",
       "      <td>171.0</td>\n",
       "      <td>5.7</td>\n",
       "      <td>1992</td>\n",
       "      <td>12088</td>\n",
       "      <td>3.604558</td>\n",
       "    </tr>\n",
       "    <tr>\n",
       "      <th>4173</th>\n",
       "      <td>Minority Report</td>\n",
       "      <td>2663.0</td>\n",
       "      <td>7.1</td>\n",
       "      <td>2002</td>\n",
       "      <td>180</td>\n",
       "      <td>3.562025</td>\n",
       "    </tr>\n",
       "    <tr>\n",
       "      <th>5580</th>\n",
       "      <td>The Three Lives of Thomasina</td>\n",
       "      <td>12.0</td>\n",
       "      <td>6.8</td>\n",
       "      <td>1963</td>\n",
       "      <td>15081</td>\n",
       "      <td>3.561796</td>\n",
       "    </tr>\n",
       "    <tr>\n",
       "      <th>7502</th>\n",
       "      <td>The Book of Eli</td>\n",
       "      <td>2207.0</td>\n",
       "      <td>6.6</td>\n",
       "      <td>2010</td>\n",
       "      <td>20504</td>\n",
       "      <td>3.535351</td>\n",
       "    </tr>\n",
       "    <tr>\n",
       "      <th>8207</th>\n",
       "      <td>Looper</td>\n",
       "      <td>4777.0</td>\n",
       "      <td>6.6</td>\n",
       "      <td>2012</td>\n",
       "      <td>59967</td>\n",
       "      <td>3.520219</td>\n",
       "    </tr>\n",
       "    <tr>\n",
       "      <th>7828</th>\n",
       "      <td>I Am Number Four</td>\n",
       "      <td>1606.0</td>\n",
       "      <td>5.9</td>\n",
       "      <td>2011</td>\n",
       "      <td>46529</td>\n",
       "      <td>3.498894</td>\n",
       "    </tr>\n",
       "    <tr>\n",
       "      <th>8500</th>\n",
       "      <td>Don Jon</td>\n",
       "      <td>1708.0</td>\n",
       "      <td>5.9</td>\n",
       "      <td>2013</td>\n",
       "      <td>138697</td>\n",
       "      <td>3.487519</td>\n",
       "    </tr>\n",
       "    <tr>\n",
       "      <th>6967</th>\n",
       "      <td>Doomsday</td>\n",
       "      <td>374.0</td>\n",
       "      <td>5.8</td>\n",
       "      <td>2008</td>\n",
       "      <td>13460</td>\n",
       "      <td>3.461785</td>\n",
       "    </tr>\n",
       "    <tr>\n",
       "      <th>7901</th>\n",
       "      <td>Super 8</td>\n",
       "      <td>2496.0</td>\n",
       "      <td>6.6</td>\n",
       "      <td>2011</td>\n",
       "      <td>37686</td>\n",
       "      <td>3.455279</td>\n",
       "    </tr>\n",
       "  </tbody>\n",
       "</table>\n",
       "</div>"
      ],
      "text/plain": [
       "                             title  vote_count  vote_average  year      id  \\\n",
       "6640                       Déjà Vu      1519.0           6.6  2006    7551   \n",
       "5924                      Fortress       171.0           5.7  1992   12088   \n",
       "4173               Minority Report      2663.0           7.1  2002     180   \n",
       "5580  The Three Lives of Thomasina        12.0           6.8  1963   15081   \n",
       "7502               The Book of Eli      2207.0           6.6  2010   20504   \n",
       "8207                        Looper      4777.0           6.6  2012   59967   \n",
       "7828              I Am Number Four      1606.0           5.9  2011   46529   \n",
       "8500                       Don Jon      1708.0           5.9  2013  138697   \n",
       "6967                      Doomsday       374.0           5.8  2008   13460   \n",
       "7901                       Super 8      2496.0           6.6  2011   37686   \n",
       "\n",
       "           est  \n",
       "6640  3.637194  \n",
       "5924  3.604558  \n",
       "4173  3.562025  \n",
       "5580  3.561796  \n",
       "7502  3.535351  \n",
       "8207  3.520219  \n",
       "7828  3.498894  \n",
       "8500  3.487519  \n",
       "6967  3.461785  \n",
       "7901  3.455279  "
      ]
     },
     "execution_count": 20,
     "metadata": {},
     "output_type": "execute_result"
    }
   ],
   "source": [
    "#The first parameter is the user_id and the second is the title of the film\n",
    "#\n",
    "hybrid(2, 'Inception')"
   ]
  }
 ],
 "metadata": {
  "kernelspec": {
   "display_name": "Python 3",
   "language": "python",
   "name": "python3"
  },
  "language_info": {
   "codemirror_mode": {
    "name": "ipython",
    "version": 3
   },
   "file_extension": ".py",
   "mimetype": "text/x-python",
   "name": "python",
   "nbconvert_exporter": "python",
   "pygments_lexer": "ipython3",
   "version": "3.7.3"
  }
 },
 "nbformat": 4,
 "nbformat_minor": 2
}
