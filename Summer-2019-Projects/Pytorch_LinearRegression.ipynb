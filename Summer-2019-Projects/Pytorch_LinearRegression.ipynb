{
 "cells": [
  {
   "cell_type": "code",
   "execution_count": 6,
   "metadata": {},
   "outputs": [],
   "source": [
    "#Common Packages\n",
    "import pandas as pd\n",
    "import numpy as np\n",
    "import matplotlib.pyplot as plt\n",
    "%matplotlib inline"
   ]
  },
  {
   "cell_type": "code",
   "execution_count": 7,
   "metadata": {},
   "outputs": [],
   "source": [
    "#Pytorch Packages \n",
    "import torch\n",
    "from torch.nn import Linear\n",
    "import torch.nn as nn"
   ]
  },
  {
   "cell_type": "code",
   "execution_count": 8,
   "metadata": {},
   "outputs": [
    {
     "data": {
      "text/plain": [
       "Text(0.5, 0, 'x')"
      ]
     },
     "execution_count": 8,
     "metadata": {},
     "output_type": "execute_result"
    },
    {
     "data": {
      "image/png": "[encoded data removed]",
      "text/plain": [
       "<Figure size 432x288 with 1 Axes>"
      ]
     },
     "metadata": {
      "needs_background": "light"
     },
     "output_type": "display_data"
    }
   ],
   "source": [
    "#The data and plotting it\n",
    "x = torch.randn(100, 1)*10\n",
    "y = x + 3*torch.randn(100,1)\n",
    "plt.plot(x.numpy(), y.numpy(), 'o')\n",
    "plt.ylabel('y')\n",
    "plt.xlabel('x')"
   ]
  },
  {
   "cell_type": "code",
   "execution_count": 12,
   "metadata": {},
   "outputs": [],
   "source": [
    "#setting up the neural network\n",
    "class LR(nn.Module):\n",
    "    def __init__(self, input_size, output_size):\n",
    "        super().__init__()\n",
    "        self.linear = nn.Linear(input_size, output_size)\n",
    "    def forward(self, x):\n",
    "        pred = self.linear(x)\n",
    "        return pred"
   ]
  },
  {
   "cell_type": "code",
   "execution_count": 13,
   "metadata": {},
   "outputs": [
    {
     "name": "stdout",
     "output_type": "stream",
     "text": [
      "LR(\n",
      "  (linear): Linear(in_features=1, out_features=1, bias=True)\n",
      ")\n"
     ]
    }
   ],
   "source": [
    "torch.manual_seed(1)\n",
    "model = LR(1,1)\n",
    "print(model)"
   ]
  },
  {
   "cell_type": "code",
   "execution_count": 15,
   "metadata": {},
   "outputs": [],
   "source": [
    "[w, b] = model.parameters()\n",
    "def get_params():\n",
    "    return (w[0][0].item(), b[0].item())"
   ]
  },
  {
   "cell_type": "code",
   "execution_count": 17,
   "metadata": {},
   "outputs": [],
   "source": [
    "#creating a function to plot the linear regression with the data\n",
    "def plot_fit(title):\n",
    "    plt.title = title\n",
    "    w1, b1 = get_params()\n",
    "    x1 = np.array([-30,30])\n",
    "    y1 = w1*x1 + b1\n",
    "    plt.plot(x1,y1, 'r')\n",
    "    plt.scatter(x,y)\n",
    "    plt.show()"
   ]
  },
  {
   "cell_type": "code",
   "execution_count": 18,
   "metadata": {},
   "outputs": [
    {
     "data": {
      "image/png": "[encoded data removed]",
      "text/plain": [
       "<Figure size 432x288 with 1 Axes>"
      ]
     },
     "metadata": {
      "needs_background": "light"
     },
     "output_type": "display_data"
    }
   ],
   "source": [
    "#plotting the linear regression\n",
    "plot_fit('Initial model')"
   ]
  },
  {
   "cell_type": "code",
   "execution_count": 20,
   "metadata": {},
   "outputs": [],
   "source": [
    "#Setting up the optimizer\n",
    "criterion = nn.MSELoss()\n",
    "optimizer = torch.optim.SGD(model.parameters(), lr = 0.01)\n",
    "epochs = 100\n",
    "losses = []"
   ]
  },
  {
   "cell_type": "code",
   "execution_count": 23,
   "metadata": {},
   "outputs": [
    {
     "name": "stdout",
     "output_type": "stream",
     "text": [
      "epoch: 0 loss: 24.974468231201172\n",
      "epoch: 1 loss: 23.889747619628906\n",
      "epoch: 2 loss: 22.87875747680664\n",
      "epoch: 3 loss: 21.93648338317871\n",
      "epoch: 4 loss: 21.05825424194336\n",
      "epoch: 5 loss: 20.23970603942871\n",
      "epoch: 6 loss: 19.476778030395508\n",
      "epoch: 7 loss: 18.765670776367188\n",
      "epoch: 8 loss: 18.102863311767578\n",
      "epoch: 9 loss: 17.48507308959961\n",
      "epoch: 10 loss: 16.909225463867188\n",
      "epoch: 11 loss: 16.372474670410156\n",
      "epoch: 12 loss: 15.872160911560059\n",
      "epoch: 13 loss: 15.40579605102539\n",
      "epoch: 14 loss: 14.97108268737793\n",
      "epoch: 15 loss: 14.5658540725708\n",
      "epoch: 16 loss: 14.188112258911133\n",
      "epoch: 17 loss: 13.835991859436035\n",
      "epoch: 18 loss: 13.507749557495117\n",
      "epoch: 19 loss: 13.201751708984375\n",
      "epoch: 20 loss: 12.916492462158203\n",
      "epoch: 21 loss: 12.650565147399902\n",
      "epoch: 22 loss: 12.402647972106934\n",
      "epoch: 23 loss: 12.171523094177246\n",
      "epoch: 24 loss: 11.956048011779785\n",
      "epoch: 25 loss: 11.755157470703125\n",
      "epoch: 26 loss: 11.56786060333252\n",
      "epoch: 27 loss: 11.393240928649902\n",
      "epoch: 28 loss: 11.230429649353027\n",
      "epoch: 29 loss: 11.078627586364746\n",
      "epoch: 30 loss: 10.93708610534668\n",
      "epoch: 31 loss: 10.805108070373535\n",
      "epoch: 32 loss: 10.682047843933105\n",
      "epoch: 33 loss: 10.567296981811523\n",
      "epoch: 34 loss: 10.460294723510742\n",
      "epoch: 35 loss: 10.360514640808105\n",
      "epoch: 36 loss: 10.267465591430664\n",
      "epoch: 37 loss: 10.180693626403809\n",
      "epoch: 38 loss: 10.099771499633789\n",
      "epoch: 39 loss: 10.024303436279297\n",
      "epoch: 40 loss: 9.953919410705566\n",
      "epoch: 41 loss: 9.888275146484375\n",
      "epoch: 42 loss: 9.827047348022461\n",
      "epoch: 43 loss: 9.769941329956055\n",
      "epoch: 44 loss: 9.7166748046875\n",
      "epoch: 45 loss: 9.666988372802734\n",
      "epoch: 46 loss: 9.620641708374023\n",
      "epoch: 47 loss: 9.577407836914062\n",
      "epoch: 48 loss: 9.537075996398926\n",
      "epoch: 49 loss: 9.499449729919434\n",
      "epoch: 50 loss: 9.464347839355469\n",
      "epoch: 51 loss: 9.431597709655762\n",
      "epoch: 52 loss: 9.401041030883789\n",
      "epoch: 53 loss: 9.372530937194824\n",
      "epoch: 54 loss: 9.345929145812988\n",
      "epoch: 55 loss: 9.321105003356934\n",
      "epoch: 56 loss: 9.297940254211426\n",
      "epoch: 57 loss: 9.276323318481445\n",
      "epoch: 58 loss: 9.256148338317871\n",
      "epoch: 59 loss: 9.237319946289062\n",
      "epoch: 60 loss: 9.219745635986328\n",
      "epoch: 61 loss: 9.20334243774414\n",
      "epoch: 62 loss: 9.188030242919922\n",
      "epoch: 63 loss: 9.173736572265625\n",
      "epoch: 64 loss: 9.160393714904785\n",
      "epoch: 65 loss: 9.147936820983887\n",
      "epoch: 66 loss: 9.136305809020996\n",
      "epoch: 67 loss: 9.125446319580078\n",
      "epoch: 68 loss: 9.115306854248047\n",
      "epoch: 69 loss: 9.105836868286133\n",
      "epoch: 70 loss: 9.096994400024414\n",
      "epoch: 71 loss: 9.088735580444336\n",
      "epoch: 72 loss: 9.081022262573242\n",
      "epoch: 73 loss: 9.073817253112793\n",
      "epoch: 74 loss: 9.067087173461914\n",
      "epoch: 75 loss: 9.060799598693848\n",
      "epoch: 76 loss: 9.054924964904785\n",
      "epoch: 77 loss: 9.049436569213867\n",
      "epoch: 78 loss: 9.04430866241455\n",
      "epoch: 79 loss: 9.03951644897461\n",
      "epoch: 80 loss: 9.03503704071045\n",
      "epoch: 81 loss: 9.030851364135742\n",
      "epoch: 82 loss: 9.026938438415527\n",
      "epoch: 83 loss: 9.02328109741211\n",
      "epoch: 84 loss: 9.019862174987793\n",
      "epoch: 85 loss: 9.016664505004883\n",
      "epoch: 86 loss: 9.01367473602295\n",
      "epoch: 87 loss: 9.010878562927246\n",
      "epoch: 88 loss: 9.008264541625977\n",
      "epoch: 89 loss: 9.005818367004395\n",
      "epoch: 90 loss: 9.003530502319336\n",
      "epoch: 91 loss: 9.00139045715332\n",
      "epoch: 92 loss: 8.999387741088867\n",
      "epoch: 93 loss: 8.997513771057129\n",
      "epoch: 94 loss: 8.995760917663574\n",
      "epoch: 95 loss: 8.994119644165039\n",
      "epoch: 96 loss: 8.992583274841309\n",
      "epoch: 97 loss: 8.991145133972168\n",
      "epoch: 98 loss: 8.989798545837402\n",
      "epoch: 99 loss: 8.988536834716797\n"
     ]
    }
   ],
   "source": [
    "#Light up the torch\n",
    "for i in range(epochs):\n",
    "    y_pred = model.forward(x)\n",
    "    loss = criterion(y_pred, y)\n",
    "    print('epoch:', i, 'loss:', loss.item())\n",
    "    \n",
    "    losses.append(loss)\n",
    "    optimizer.zero_grad()\n",
    "    loss.backward()\n",
    "    optimizer.step()"
   ]
  },
  {
   "cell_type": "code",
   "execution_count": 24,
   "metadata": {},
   "outputs": [
    {
     "data": {
      "text/plain": [
       "Text(0.5, 0, 'epoch')"
      ]
     },
     "execution_count": 24,
     "metadata": {},
     "output_type": "execute_result"
    },
    {
     "data": {
      "image/png": "[encoded data removed]",
      "text/plain": [
       "<Figure size 432x288 with 1 Axes>"
      ]
     },
     "metadata": {
      "needs_background": "light"
     },
     "output_type": "display_data"
    }
   ],
   "source": [
    "#plotting epoch loss graph\n",
    "plt.plot(range(epochs), losses)\n",
    "plt.ylabel('Loss')\n",
    "plt.xlabel('epoch')"
   ]
  },
  {
   "cell_type": "code",
   "execution_count": 25,
   "metadata": {},
   "outputs": [
    {
     "data": {
      "image/png": "[encoded data removed]",
      "text/plain": [
       "<Figure size 432x288 with 1 Axes>"
      ]
     },
     "metadata": {
      "needs_background": "light"
     },
     "output_type": "display_data"
    }
   ],
   "source": [
    "#Trained Model\n",
    "plot_fit('Trained Model')"
   ]
  },
  {
   "cell_type": "code",
   "execution_count": null,
   "metadata": {},
   "outputs": [],
   "source": []
  }
 ],
 "metadata": {
  "kernelspec": {
   "display_name": "Python 3",
   "language": "python",
   "name": "python3"
  },
  "language_info": {
   "codemirror_mode": {
    "name": "ipython",
    "version": 3
   },
   "file_extension": ".py",
   "mimetype": "text/x-python",
   "name": "python",
   "nbconvert_exporter": "python",
   "pygments_lexer": "ipython3",
   "version": "3.7.3"
  }
 },
 "nbformat": 4,
 "nbformat_minor": 2
}
